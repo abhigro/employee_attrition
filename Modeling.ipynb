{
 "cells": [
  {
   "cell_type": "code",
   "execution_count": 2,
   "metadata": {},
   "outputs": [],
   "source": [
    "import pandas as pd\n",
    "import seaborn as sns\n",
    "import matplotlib.pyplot as plt\n",
    "data_cap = pd.read_csv(\"HR_Employee_Attrition_Data.csv\")"
   ]
  },
  {
   "cell_type": "markdown",
   "metadata": {},
   "source": [
    "# Data preprocessing"
   ]
  },
  {
   "cell_type": "code",
   "execution_count": 3,
   "metadata": {},
   "outputs": [
    {
     "name": "stdout",
     "output_type": "stream",
     "text": [
      "EmployeeCount unique values:: [1]\n",
      "Over18 unique values:: ['Y']\n",
      "StandardHours unique values:: [80]\n"
     ]
    }
   ],
   "source": [
    "#Checking for unwanted columns\n",
    "print(\"EmployeeCount unique values::\", data_cap['EmployeeCount'].unique())\n",
    "print(\"Over18 unique values::\",data_cap['Over18'].unique())\n",
    "print(\"StandardHours unique values::\",data_cap['StandardHours'].unique())\n",
    "#There is only one value for above column hence dropping it as they will not affect our model\n"
   ]
  },
  {
   "cell_type": "code",
   "execution_count": 4,
   "metadata": {},
   "outputs": [],
   "source": [
    "data_cap.drop(columns = ['EmployeeCount', 'Over18','StandardHours', 'EmployeeNumber'], inplace = True)"
   ]
  },
  {
   "cell_type": "code",
   "execution_count": 5,
   "metadata": {},
   "outputs": [],
   "source": [
    "col=data_cap.columns.tolist()"
   ]
  },
  {
   "cell_type": "code",
   "execution_count": 6,
   "metadata": {},
   "outputs": [
    {
     "data": {
      "text/plain": [
       "(2940, 31)"
      ]
     },
     "execution_count": 6,
     "metadata": {},
     "output_type": "execute_result"
    }
   ],
   "source": [
    "data_cap.shape"
   ]
  },
  {
   "cell_type": "markdown",
   "metadata": {},
   "source": [
    "### Converting labels to nominal data"
   ]
  },
  {
   "cell_type": "code",
   "execution_count": 7,
   "metadata": {},
   "outputs": [],
   "source": [
    "#Converting 'Attrition', 'BusinessTravel', 'Department', 'EducationField', 'Gender', 'JobRole'\n",
    "#'MaritalStatus', 'overtime'\n",
    "from sklearn import preprocessing\n",
    "from sklearn.model_selection import train_test_split\n",
    "from sklearn.ensemble import RandomForestClassifier\n",
    "from sklearn.metrics import recall_score\n",
    "from sklearn.metrics import roc_curve, auc,confusion_matrix\n",
    "import numpy as np"
   ]
  },
  {
   "cell_type": "code",
   "execution_count": 29,
   "metadata": {},
   "outputs": [],
   "source": [
    "\n",
    "def labelencoder(df):\n",
    "    temp_df = df.copy()\n",
    "    le={}\n",
    "    for i in [\"Attrition\",\"BusinessTravel\",\"Department\",\"EducationField\",\"Gender\",\"JobRole\",\"MaritalStatus\",\"OverTime\"]:\n",
    "    \n",
    "        le[i] = preprocessing.LabelEncoder()\n",
    "\n",
    "        temp_df[i] = le[i].fit_transform(temp_df[i])\n",
    "        \n",
    "    return temp_df,le\n",
    "\n",
    "encoded_cap_data,enc = labelencoder(data_cap)\n"
   ]
  },
  {
   "cell_type": "code",
   "execution_count": 9,
   "metadata": {},
   "outputs": [
    {
     "data": {
      "text/html": [
       "<div>\n",
       "<style scoped>\n",
       "    .dataframe tbody tr th:only-of-type {\n",
       "        vertical-align: middle;\n",
       "    }\n",
       "\n",
       "    .dataframe tbody tr th {\n",
       "        vertical-align: top;\n",
       "    }\n",
       "\n",
       "    .dataframe thead th {\n",
       "        text-align: right;\n",
       "    }\n",
       "</style>\n",
       "<table border=\"1\" class=\"dataframe\">\n",
       "  <thead>\n",
       "    <tr style=\"text-align: right;\">\n",
       "      <th></th>\n",
       "      <th>Age</th>\n",
       "      <th>Attrition</th>\n",
       "      <th>BusinessTravel</th>\n",
       "      <th>DailyRate</th>\n",
       "      <th>Department</th>\n",
       "      <th>DistanceFromHome</th>\n",
       "      <th>Education</th>\n",
       "      <th>EducationField</th>\n",
       "      <th>EnvironmentSatisfaction</th>\n",
       "      <th>Gender</th>\n",
       "      <th>...</th>\n",
       "      <th>PerformanceRating</th>\n",
       "      <th>RelationshipSatisfaction</th>\n",
       "      <th>StockOptionLevel</th>\n",
       "      <th>TotalWorkingYears</th>\n",
       "      <th>TrainingTimesLastYear</th>\n",
       "      <th>WorkLifeBalance</th>\n",
       "      <th>YearsAtCompany</th>\n",
       "      <th>YearsInCurrentRole</th>\n",
       "      <th>YearsSinceLastPromotion</th>\n",
       "      <th>YearsWithCurrManager</th>\n",
       "    </tr>\n",
       "  </thead>\n",
       "  <tbody>\n",
       "    <tr>\n",
       "      <th>0</th>\n",
       "      <td>41</td>\n",
       "      <td>1</td>\n",
       "      <td>2</td>\n",
       "      <td>1102</td>\n",
       "      <td>2</td>\n",
       "      <td>1</td>\n",
       "      <td>2</td>\n",
       "      <td>1</td>\n",
       "      <td>2</td>\n",
       "      <td>0</td>\n",
       "      <td>...</td>\n",
       "      <td>3</td>\n",
       "      <td>1</td>\n",
       "      <td>0</td>\n",
       "      <td>8</td>\n",
       "      <td>0</td>\n",
       "      <td>1</td>\n",
       "      <td>6</td>\n",
       "      <td>4</td>\n",
       "      <td>0</td>\n",
       "      <td>5</td>\n",
       "    </tr>\n",
       "    <tr>\n",
       "      <th>1</th>\n",
       "      <td>49</td>\n",
       "      <td>0</td>\n",
       "      <td>1</td>\n",
       "      <td>279</td>\n",
       "      <td>1</td>\n",
       "      <td>8</td>\n",
       "      <td>1</td>\n",
       "      <td>1</td>\n",
       "      <td>3</td>\n",
       "      <td>1</td>\n",
       "      <td>...</td>\n",
       "      <td>4</td>\n",
       "      <td>4</td>\n",
       "      <td>1</td>\n",
       "      <td>10</td>\n",
       "      <td>3</td>\n",
       "      <td>3</td>\n",
       "      <td>10</td>\n",
       "      <td>7</td>\n",
       "      <td>1</td>\n",
       "      <td>7</td>\n",
       "    </tr>\n",
       "    <tr>\n",
       "      <th>2</th>\n",
       "      <td>37</td>\n",
       "      <td>1</td>\n",
       "      <td>2</td>\n",
       "      <td>1373</td>\n",
       "      <td>1</td>\n",
       "      <td>2</td>\n",
       "      <td>2</td>\n",
       "      <td>4</td>\n",
       "      <td>4</td>\n",
       "      <td>1</td>\n",
       "      <td>...</td>\n",
       "      <td>3</td>\n",
       "      <td>2</td>\n",
       "      <td>0</td>\n",
       "      <td>7</td>\n",
       "      <td>3</td>\n",
       "      <td>3</td>\n",
       "      <td>0</td>\n",
       "      <td>0</td>\n",
       "      <td>0</td>\n",
       "      <td>0</td>\n",
       "    </tr>\n",
       "    <tr>\n",
       "      <th>3</th>\n",
       "      <td>33</td>\n",
       "      <td>0</td>\n",
       "      <td>1</td>\n",
       "      <td>1392</td>\n",
       "      <td>1</td>\n",
       "      <td>3</td>\n",
       "      <td>4</td>\n",
       "      <td>1</td>\n",
       "      <td>4</td>\n",
       "      <td>0</td>\n",
       "      <td>...</td>\n",
       "      <td>3</td>\n",
       "      <td>3</td>\n",
       "      <td>0</td>\n",
       "      <td>8</td>\n",
       "      <td>3</td>\n",
       "      <td>3</td>\n",
       "      <td>8</td>\n",
       "      <td>7</td>\n",
       "      <td>3</td>\n",
       "      <td>0</td>\n",
       "    </tr>\n",
       "    <tr>\n",
       "      <th>4</th>\n",
       "      <td>27</td>\n",
       "      <td>0</td>\n",
       "      <td>2</td>\n",
       "      <td>591</td>\n",
       "      <td>1</td>\n",
       "      <td>2</td>\n",
       "      <td>1</td>\n",
       "      <td>3</td>\n",
       "      <td>1</td>\n",
       "      <td>1</td>\n",
       "      <td>...</td>\n",
       "      <td>3</td>\n",
       "      <td>4</td>\n",
       "      <td>1</td>\n",
       "      <td>6</td>\n",
       "      <td>3</td>\n",
       "      <td>3</td>\n",
       "      <td>2</td>\n",
       "      <td>2</td>\n",
       "      <td>2</td>\n",
       "      <td>2</td>\n",
       "    </tr>\n",
       "  </tbody>\n",
       "</table>\n",
       "<p>5 rows × 31 columns</p>\n",
       "</div>"
      ],
      "text/plain": [
       "   Age  Attrition  BusinessTravel  DailyRate  Department  DistanceFromHome  \\\n",
       "0   41          1               2       1102           2                 1   \n",
       "1   49          0               1        279           1                 8   \n",
       "2   37          1               2       1373           1                 2   \n",
       "3   33          0               1       1392           1                 3   \n",
       "4   27          0               2        591           1                 2   \n",
       "\n",
       "   Education  EducationField  EnvironmentSatisfaction  Gender  ...  \\\n",
       "0          2               1                        2       0  ...   \n",
       "1          1               1                        3       1  ...   \n",
       "2          2               4                        4       1  ...   \n",
       "3          4               1                        4       0  ...   \n",
       "4          1               3                        1       1  ...   \n",
       "\n",
       "   PerformanceRating  RelationshipSatisfaction  StockOptionLevel  \\\n",
       "0                  3                         1                 0   \n",
       "1                  4                         4                 1   \n",
       "2                  3                         2                 0   \n",
       "3                  3                         3                 0   \n",
       "4                  3                         4                 1   \n",
       "\n",
       "   TotalWorkingYears  TrainingTimesLastYear  WorkLifeBalance  YearsAtCompany  \\\n",
       "0                  8                      0                1               6   \n",
       "1                 10                      3                3              10   \n",
       "2                  7                      3                3               0   \n",
       "3                  8                      3                3               8   \n",
       "4                  6                      3                3               2   \n",
       "\n",
       "   YearsInCurrentRole  YearsSinceLastPromotion  YearsWithCurrManager  \n",
       "0                   4                        0                     5  \n",
       "1                   7                        1                     7  \n",
       "2                   0                        0                     0  \n",
       "3                   7                        3                     0  \n",
       "4                   2                        2                     2  \n",
       "\n",
       "[5 rows x 31 columns]"
      ]
     },
     "execution_count": 9,
     "metadata": {},
     "output_type": "execute_result"
    }
   ],
   "source": [
    "encoded_cap_data.head(5)"
   ]
  },
  {
   "cell_type": "code",
   "execution_count": 10,
   "metadata": {},
   "outputs": [
    {
     "data": {
      "text/html": [
       "<div>\n",
       "<style scoped>\n",
       "    .dataframe tbody tr th:only-of-type {\n",
       "        vertical-align: middle;\n",
       "    }\n",
       "\n",
       "    .dataframe tbody tr th {\n",
       "        vertical-align: top;\n",
       "    }\n",
       "\n",
       "    .dataframe thead th {\n",
       "        text-align: right;\n",
       "    }\n",
       "</style>\n",
       "<table border=\"1\" class=\"dataframe\">\n",
       "  <thead>\n",
       "    <tr style=\"text-align: right;\">\n",
       "      <th></th>\n",
       "      <th>Age</th>\n",
       "      <th>Attrition</th>\n",
       "      <th>BusinessTravel</th>\n",
       "      <th>DailyRate</th>\n",
       "      <th>Department</th>\n",
       "      <th>DistanceFromHome</th>\n",
       "      <th>Education</th>\n",
       "      <th>EducationField</th>\n",
       "      <th>EnvironmentSatisfaction</th>\n",
       "      <th>Gender</th>\n",
       "      <th>...</th>\n",
       "      <th>PerformanceRating</th>\n",
       "      <th>RelationshipSatisfaction</th>\n",
       "      <th>StockOptionLevel</th>\n",
       "      <th>TotalWorkingYears</th>\n",
       "      <th>TrainingTimesLastYear</th>\n",
       "      <th>WorkLifeBalance</th>\n",
       "      <th>YearsAtCompany</th>\n",
       "      <th>YearsInCurrentRole</th>\n",
       "      <th>YearsSinceLastPromotion</th>\n",
       "      <th>YearsWithCurrManager</th>\n",
       "    </tr>\n",
       "  </thead>\n",
       "  <tbody>\n",
       "    <tr>\n",
       "      <th>0</th>\n",
       "      <td>41</td>\n",
       "      <td>Yes</td>\n",
       "      <td>Travel_Rarely</td>\n",
       "      <td>1102</td>\n",
       "      <td>Sales</td>\n",
       "      <td>1</td>\n",
       "      <td>2</td>\n",
       "      <td>Life Sciences</td>\n",
       "      <td>2</td>\n",
       "      <td>Female</td>\n",
       "      <td>...</td>\n",
       "      <td>3</td>\n",
       "      <td>1</td>\n",
       "      <td>0</td>\n",
       "      <td>8</td>\n",
       "      <td>0</td>\n",
       "      <td>1</td>\n",
       "      <td>6</td>\n",
       "      <td>4</td>\n",
       "      <td>0</td>\n",
       "      <td>5</td>\n",
       "    </tr>\n",
       "    <tr>\n",
       "      <th>1</th>\n",
       "      <td>49</td>\n",
       "      <td>No</td>\n",
       "      <td>Travel_Frequently</td>\n",
       "      <td>279</td>\n",
       "      <td>Research &amp; Development</td>\n",
       "      <td>8</td>\n",
       "      <td>1</td>\n",
       "      <td>Life Sciences</td>\n",
       "      <td>3</td>\n",
       "      <td>Male</td>\n",
       "      <td>...</td>\n",
       "      <td>4</td>\n",
       "      <td>4</td>\n",
       "      <td>1</td>\n",
       "      <td>10</td>\n",
       "      <td>3</td>\n",
       "      <td>3</td>\n",
       "      <td>10</td>\n",
       "      <td>7</td>\n",
       "      <td>1</td>\n",
       "      <td>7</td>\n",
       "    </tr>\n",
       "    <tr>\n",
       "      <th>2</th>\n",
       "      <td>37</td>\n",
       "      <td>Yes</td>\n",
       "      <td>Travel_Rarely</td>\n",
       "      <td>1373</td>\n",
       "      <td>Research &amp; Development</td>\n",
       "      <td>2</td>\n",
       "      <td>2</td>\n",
       "      <td>Other</td>\n",
       "      <td>4</td>\n",
       "      <td>Male</td>\n",
       "      <td>...</td>\n",
       "      <td>3</td>\n",
       "      <td>2</td>\n",
       "      <td>0</td>\n",
       "      <td>7</td>\n",
       "      <td>3</td>\n",
       "      <td>3</td>\n",
       "      <td>0</td>\n",
       "      <td>0</td>\n",
       "      <td>0</td>\n",
       "      <td>0</td>\n",
       "    </tr>\n",
       "    <tr>\n",
       "      <th>3</th>\n",
       "      <td>33</td>\n",
       "      <td>No</td>\n",
       "      <td>Travel_Frequently</td>\n",
       "      <td>1392</td>\n",
       "      <td>Research &amp; Development</td>\n",
       "      <td>3</td>\n",
       "      <td>4</td>\n",
       "      <td>Life Sciences</td>\n",
       "      <td>4</td>\n",
       "      <td>Female</td>\n",
       "      <td>...</td>\n",
       "      <td>3</td>\n",
       "      <td>3</td>\n",
       "      <td>0</td>\n",
       "      <td>8</td>\n",
       "      <td>3</td>\n",
       "      <td>3</td>\n",
       "      <td>8</td>\n",
       "      <td>7</td>\n",
       "      <td>3</td>\n",
       "      <td>0</td>\n",
       "    </tr>\n",
       "    <tr>\n",
       "      <th>4</th>\n",
       "      <td>27</td>\n",
       "      <td>No</td>\n",
       "      <td>Travel_Rarely</td>\n",
       "      <td>591</td>\n",
       "      <td>Research &amp; Development</td>\n",
       "      <td>2</td>\n",
       "      <td>1</td>\n",
       "      <td>Medical</td>\n",
       "      <td>1</td>\n",
       "      <td>Male</td>\n",
       "      <td>...</td>\n",
       "      <td>3</td>\n",
       "      <td>4</td>\n",
       "      <td>1</td>\n",
       "      <td>6</td>\n",
       "      <td>3</td>\n",
       "      <td>3</td>\n",
       "      <td>2</td>\n",
       "      <td>2</td>\n",
       "      <td>2</td>\n",
       "      <td>2</td>\n",
       "    </tr>\n",
       "  </tbody>\n",
       "</table>\n",
       "<p>5 rows × 31 columns</p>\n",
       "</div>"
      ],
      "text/plain": [
       "   Age Attrition     BusinessTravel  DailyRate              Department  \\\n",
       "0   41       Yes      Travel_Rarely       1102                   Sales   \n",
       "1   49        No  Travel_Frequently        279  Research & Development   \n",
       "2   37       Yes      Travel_Rarely       1373  Research & Development   \n",
       "3   33        No  Travel_Frequently       1392  Research & Development   \n",
       "4   27        No      Travel_Rarely        591  Research & Development   \n",
       "\n",
       "   DistanceFromHome  Education EducationField  EnvironmentSatisfaction  \\\n",
       "0                 1          2  Life Sciences                        2   \n",
       "1                 8          1  Life Sciences                        3   \n",
       "2                 2          2          Other                        4   \n",
       "3                 3          4  Life Sciences                        4   \n",
       "4                 2          1        Medical                        1   \n",
       "\n",
       "   Gender  ...  PerformanceRating  RelationshipSatisfaction  StockOptionLevel  \\\n",
       "0  Female  ...                  3                         1                 0   \n",
       "1    Male  ...                  4                         4                 1   \n",
       "2    Male  ...                  3                         2                 0   \n",
       "3  Female  ...                  3                         3                 0   \n",
       "4    Male  ...                  3                         4                 1   \n",
       "\n",
       "  TotalWorkingYears  TrainingTimesLastYear WorkLifeBalance  YearsAtCompany  \\\n",
       "0                 8                      0               1               6   \n",
       "1                10                      3               3              10   \n",
       "2                 7                      3               3               0   \n",
       "3                 8                      3               3               8   \n",
       "4                 6                      3               3               2   \n",
       "\n",
       "   YearsInCurrentRole  YearsSinceLastPromotion YearsWithCurrManager  \n",
       "0                   4                        0                    5  \n",
       "1                   7                        1                    7  \n",
       "2                   0                        0                    0  \n",
       "3                   7                        3                    0  \n",
       "4                   2                        2                    2  \n",
       "\n",
       "[5 rows x 31 columns]"
      ]
     },
     "execution_count": 10,
     "metadata": {},
     "output_type": "execute_result"
    }
   ],
   "source": [
    "data_cap.head()"
   ]
  },
  {
   "cell_type": "code",
   "execution_count": 11,
   "metadata": {},
   "outputs": [],
   "source": [
    "#Segregating the Independent and the dependant variable\n",
    "y = encoded_cap_data[\"Attrition\"].values\n",
    "X = encoded_cap_data.drop([\"Attrition\"],axis =1)"
   ]
  },
  {
   "cell_type": "code",
   "execution_count": 12,
   "metadata": {},
   "outputs": [],
   "source": [
    "#Splitting into training and testing\n",
    "X_train, X_test, y_train, y_test = train_test_split(X,y,test_size =0.2)\n"
   ]
  },
  {
   "cell_type": "code",
   "execution_count": 13,
   "metadata": {},
   "outputs": [
    {
     "data": {
      "text/plain": [
       "(2352, 30)"
      ]
     },
     "execution_count": 13,
     "metadata": {},
     "output_type": "execute_result"
    }
   ],
   "source": [
    "X_train.shape"
   ]
  },
  {
   "cell_type": "code",
   "execution_count": 14,
   "metadata": {},
   "outputs": [
    {
     "name": "stdout",
     "output_type": "stream",
     "text": [
      "Training score:  0.9995748299319728\n",
      "Testing score:  0.9506802721088435\n"
     ]
    }
   ],
   "source": [
    "#Build the decision tree model with tree size 50\n",
    "model_HR = RandomForestClassifier(n_estimators = 50, random_state = 0)\n",
    "model_HR.fit(X_train, y_train)\n",
    "model_HR_score_train = model_HR.score(X_train, y_train)\n",
    "print(\"Training score: \",model_HR_score_train)\n",
    "model_HR_score_test = model_HR.score(X_test, y_test)\n",
    "print(\"Testing score: \",model_HR_score_test)\n"
   ]
  },
  {
   "cell_type": "code",
   "execution_count": 15,
   "metadata": {},
   "outputs": [
    {
     "data": {
      "text/plain": [
       "array([0.22, 0.02, 0.04, 0.04, 0.04, 0.66, 0.04, 0.02, 0.66, 0.04, 0.02,\n",
       "       0.04, 0.76, 0.62, 0.06, 0.08, 0.02, 0.  , 0.64, 0.06, 0.48, 0.14,\n",
       "       0.08, 0.08, 0.04, 0.06, 0.82, 0.  , 0.  , 0.06, 0.04, 0.  , 0.82,\n",
       "       0.1 , 0.04, 0.08, 0.24, 0.02, 0.08, 0.1 , 0.02, 0.08, 0.08, 0.04,\n",
       "       0.  , 0.  , 0.08, 0.88, 0.  , 0.62, 0.1 , 0.62, 0.76, 0.  , 0.  ,\n",
       "       0.94, 0.14, 0.02, 0.08, 0.96, 0.12, 0.06, 0.06, 0.04, 0.04, 0.  ,\n",
       "       0.84, 0.82, 0.02, 0.  , 0.12, 0.02, 0.06, 0.1 , 0.04, 0.1 , 0.76,\n",
       "       0.02, 0.22, 0.08, 0.08, 0.74, 0.18, 0.06, 0.08, 0.06, 0.  , 0.56,\n",
       "       0.02, 0.04, 0.08, 0.  , 0.  , 0.2 , 0.78, 0.08, 0.6 , 0.12, 0.14,\n",
       "       0.1 , 0.14, 0.  , 0.26, 0.02, 0.02, 0.  , 0.26, 0.02, 0.04, 0.08,\n",
       "       0.06, 0.02, 0.12, 0.18, 0.04, 0.04, 0.68, 0.06, 0.1 , 0.02, 0.72,\n",
       "       0.  , 0.14, 0.08, 0.04, 0.06, 0.74, 0.04, 0.  , 0.04, 0.  , 0.04,\n",
       "       0.06, 0.04, 0.02, 0.02, 0.04, 0.14, 0.04, 0.04, 0.  , 0.06, 0.02,\n",
       "       0.94, 0.06, 0.3 , 0.58, 0.  , 0.02, 0.72, 0.02, 0.08, 0.04, 0.04,\n",
       "       0.12, 0.12, 0.02, 0.04, 0.06, 0.  , 0.  , 0.08, 0.08, 0.04, 0.18,\n",
       "       0.12, 0.1 , 0.1 , 0.06, 0.68, 0.08, 0.02, 0.  , 0.08, 0.04, 0.12,\n",
       "       0.04, 0.8 , 0.16, 0.18, 0.02, 0.04, 0.78, 0.16, 0.16, 0.  , 0.04,\n",
       "       0.08, 0.74, 0.  , 0.14, 0.08, 0.16, 0.14, 0.3 , 0.06, 0.  , 0.1 ,\n",
       "       0.06, 0.02, 0.1 , 0.02, 0.02, 0.1 , 0.34, 0.38, 0.1 , 0.14, 0.26,\n",
       "       0.62, 0.06, 0.16, 0.  , 0.02, 0.12, 0.04, 0.08, 0.12, 0.  , 0.24,\n",
       "       0.  , 0.06, 0.06, 0.08, 0.14, 0.06, 0.84, 0.  , 0.18, 0.08, 0.04,\n",
       "       0.  , 0.1 , 0.  , 0.1 , 0.06, 0.8 , 0.18, 0.06, 0.56, 0.08, 0.2 ,\n",
       "       0.04, 0.08, 0.08, 0.02, 0.12, 0.68, 0.7 , 0.02, 0.12, 0.04, 0.76,\n",
       "       0.02, 0.06, 0.06, 0.16, 0.02, 0.12, 0.  , 0.04, 0.04, 0.66, 0.16,\n",
       "       0.16, 0.12, 0.04, 0.02, 0.02, 0.02, 0.76, 0.04, 0.2 , 0.7 , 0.06,\n",
       "       0.  , 0.24, 0.14, 0.02, 0.08, 0.  , 0.4 , 0.68, 0.06, 0.02, 0.04,\n",
       "       0.02, 0.04, 0.04, 0.02, 0.34, 0.04, 0.04, 0.16, 0.08, 0.  , 0.6 ,\n",
       "       0.24, 0.02, 0.84, 0.04, 0.12, 0.  , 0.08, 0.02, 0.14, 0.72, 0.06,\n",
       "       0.1 , 0.04, 0.1 , 0.1 , 0.06, 0.1 , 0.02, 0.08, 0.  , 0.  , 0.02,\n",
       "       0.  , 0.66, 0.12, 0.  , 0.02, 0.66, 0.72, 0.12, 0.06, 0.  , 0.  ,\n",
       "       0.66, 0.02, 0.02, 0.74, 0.02, 0.18, 0.14, 0.06, 0.06, 0.06, 0.68,\n",
       "       0.74, 0.02, 0.02, 0.02, 0.08, 0.  , 0.  , 0.08, 0.  , 0.02, 0.02,\n",
       "       0.64, 0.14, 0.86, 0.08, 0.02, 0.04, 0.  , 0.06, 0.04, 0.02, 0.02,\n",
       "       0.06, 0.02, 0.06, 0.  , 0.06, 0.04, 0.08, 0.02, 0.06, 0.14, 0.16,\n",
       "       0.04, 0.02, 0.04, 0.  , 0.82, 0.  , 0.02, 0.  , 0.56, 0.02, 0.66,\n",
       "       0.06, 0.08, 0.12, 0.12, 0.  , 0.02, 0.14, 0.06, 0.88, 0.08, 0.06,\n",
       "       0.76, 0.06, 0.3 , 0.06, 0.06, 0.06, 0.14, 0.  , 0.14, 0.04, 0.84,\n",
       "       0.16, 0.04, 0.38, 0.  , 0.02, 0.08, 0.04, 0.04, 0.1 , 0.38, 0.18,\n",
       "       0.14, 0.02, 0.02, 0.08, 0.7 , 0.06, 0.  , 0.76, 0.04, 0.  , 0.04,\n",
       "       0.08, 0.  , 0.02, 0.7 , 0.02, 0.06, 0.12, 0.  , 0.  , 0.04, 0.06,\n",
       "       0.24, 0.02, 0.08, 0.06, 0.08, 0.02, 0.04, 0.08, 0.06, 0.06, 0.4 ,\n",
       "       0.12, 0.14, 0.02, 0.1 , 0.  , 0.  , 0.14, 0.86, 0.2 , 0.1 , 0.  ,\n",
       "       0.02, 0.8 , 0.  , 0.02, 0.04, 0.72, 0.04, 0.  , 0.04, 0.1 , 0.82,\n",
       "       0.14, 0.08, 0.96, 0.54, 0.08, 0.02, 0.02, 0.06, 0.06, 0.12, 0.  ,\n",
       "       0.  , 0.1 , 0.16, 0.  , 0.1 , 0.06, 0.  , 0.  , 0.04, 0.06, 0.14,\n",
       "       0.72, 0.  , 0.06, 0.  , 0.48, 0.06, 0.04, 0.02, 0.72, 0.22, 0.  ,\n",
       "       0.18, 0.56, 0.06, 0.  , 0.04, 0.06, 0.9 , 0.02, 0.08, 0.06, 0.1 ,\n",
       "       0.02, 0.7 , 0.18, 0.76, 0.08, 0.94, 0.08, 0.  , 0.04, 0.22, 0.04,\n",
       "       0.1 , 0.1 , 0.08, 0.  , 0.02, 0.14, 0.06, 0.16, 0.04, 0.04, 0.06,\n",
       "       0.02, 0.64, 0.14, 0.  , 0.06, 0.  , 0.04, 0.  , 0.06, 0.02, 0.12,\n",
       "       0.04, 0.  , 0.08, 0.94, 0.  , 0.  , 0.74, 0.28, 0.76, 0.1 , 0.38,\n",
       "       0.04, 0.  , 0.04, 0.1 , 0.02, 0.06, 0.52, 0.12, 0.68, 0.62, 0.  ,\n",
       "       0.  , 0.1 , 0.06, 0.  , 0.14, 0.2 , 0.  , 0.08, 0.04, 0.12, 0.08,\n",
       "       0.  , 0.78, 0.48, 0.12, 0.  ])"
      ]
     },
     "execution_count": 15,
     "metadata": {},
     "output_type": "execute_result"
    }
   ],
   "source": [
    "#caluclating the probabilities for the AUC curve\n",
    "#Decision treemodel_dt_2\n",
    "y_pred_prob = model_HR.predict_proba(X_test)[:, 1]\n",
    "y_pred_prob"
   ]
  },
  {
   "cell_type": "code",
   "execution_count": 16,
   "metadata": {},
   "outputs": [
    {
     "data": {
      "text/plain": [
       "array([0, 0, 0, 0, 0, 1, 0, 0, 1, 0, 0, 0, 1, 1, 0, 0, 0, 0, 1, 0, 0, 0,\n",
       "       0, 0, 0, 0, 1, 0, 0, 0, 0, 0, 1, 0, 0, 0, 0, 0, 0, 0, 0, 0, 0, 0,\n",
       "       0, 0, 0, 1, 0, 1, 0, 1, 1, 0, 0, 1, 0, 0, 0, 1, 0, 0, 0, 0, 0, 0,\n",
       "       1, 1, 0, 0, 0, 0, 0, 0, 0, 0, 1, 0, 0, 0, 0, 1, 0, 0, 0, 0, 0, 1,\n",
       "       0, 0, 0, 0, 0, 0, 1, 0, 1, 0, 0, 0, 0, 0, 0, 0, 0, 0, 0, 0, 0, 0,\n",
       "       0, 0, 0, 0, 0, 0, 1, 0, 0, 0, 1, 0, 0, 0, 0, 0, 1, 0, 0, 0, 0, 0,\n",
       "       0, 0, 0, 0, 0, 0, 0, 0, 0, 0, 0, 1, 0, 0, 1, 0, 0, 1, 0, 0, 0, 0,\n",
       "       0, 0, 0, 0, 0, 0, 0, 0, 0, 0, 0, 0, 0, 0, 0, 1, 0, 0, 0, 0, 0, 0,\n",
       "       0, 1, 0, 0, 0, 0, 1, 0, 0, 0, 0, 0, 1, 0, 0, 0, 0, 0, 0, 0, 0, 0,\n",
       "       0, 0, 0, 0, 0, 0, 0, 0, 0, 0, 0, 1, 0, 0, 0, 0, 0, 0, 0, 0, 0, 0,\n",
       "       0, 0, 0, 0, 0, 0, 1, 0, 0, 0, 0, 0, 0, 0, 0, 0, 1, 0, 0, 1, 0, 0,\n",
       "       0, 0, 0, 0, 0, 1, 1, 0, 0, 0, 1, 0, 0, 0, 0, 0, 0, 0, 0, 0, 1, 0,\n",
       "       0, 0, 0, 0, 0, 0, 1, 0, 0, 1, 0, 0, 0, 0, 0, 0, 0, 0, 1, 0, 0, 0,\n",
       "       0, 0, 0, 0, 0, 0, 0, 0, 0, 0, 1, 0, 0, 1, 0, 0, 0, 0, 0, 0, 1, 0,\n",
       "       0, 0, 0, 0, 0, 0, 0, 0, 0, 0, 0, 0, 1, 0, 0, 0, 1, 1, 0, 0, 0, 0,\n",
       "       1, 0, 0, 1, 0, 0, 0, 0, 0, 0, 1, 1, 0, 0, 0, 0, 0, 0, 0, 0, 0, 0,\n",
       "       1, 0, 1, 0, 0, 0, 0, 0, 0, 0, 0, 0, 0, 0, 0, 0, 0, 0, 0, 0, 0, 0,\n",
       "       0, 0, 0, 0, 1, 0, 0, 0, 1, 0, 1, 0, 0, 0, 0, 0, 0, 0, 0, 1, 0, 0,\n",
       "       1, 0, 0, 0, 0, 0, 0, 0, 0, 0, 1, 0, 0, 0, 0, 0, 0, 0, 0, 0, 0, 0,\n",
       "       0, 0, 0, 0, 1, 0, 0, 1, 0, 0, 0, 0, 0, 0, 1, 0, 0, 0, 0, 0, 0, 0,\n",
       "       0, 0, 0, 0, 0, 0, 0, 0, 0, 0, 0, 0, 0, 0, 0, 0, 0, 0, 1, 0, 0, 0,\n",
       "       0, 1, 0, 0, 0, 1, 0, 0, 0, 0, 1, 0, 0, 1, 1, 0, 0, 0, 0, 0, 0, 0,\n",
       "       0, 0, 0, 0, 0, 0, 0, 0, 0, 0, 0, 1, 0, 0, 0, 0, 0, 0, 0, 1, 0, 0,\n",
       "       0, 1, 0, 0, 0, 0, 1, 0, 0, 0, 0, 0, 1, 0, 1, 0, 1, 0, 0, 0, 0, 0,\n",
       "       0, 0, 0, 0, 0, 0, 0, 0, 0, 0, 0, 0, 1, 0, 0, 0, 0, 0, 0, 0, 0, 0,\n",
       "       0, 0, 0, 1, 0, 0, 1, 0, 1, 0, 0, 0, 0, 0, 0, 0, 0, 1, 0, 1, 1, 0,\n",
       "       0, 0, 0, 0, 0, 0, 0, 0, 0, 0, 0, 0, 1, 0, 0, 0])"
      ]
     },
     "execution_count": 16,
     "metadata": {},
     "output_type": "execute_result"
    }
   ],
   "source": [
    "#Predicting the Attrition for X_test\n",
    "y_pred = model_HR.predict(X_test)\n",
    "y_pred"
   ]
  },
  {
   "cell_type": "markdown",
   "metadata": {},
   "source": [
    "### Performance metrics"
   ]
  },
  {
   "cell_type": "code",
   "execution_count": 17,
   "metadata": {},
   "outputs": [
    {
     "name": "stdout",
     "output_type": "stream",
     "text": [
      "Model Accuracy is:: 95.06802721088435\n",
      "Model recall is:: 75.96153846153845\n"
     ]
    }
   ],
   "source": [
    "# Model Accuracy:\n",
    "print (\"Model Accuracy is::\", (model_HR.score(X_test, y_test))*100)\n",
    "# Recall\n",
    "print(\"Model recall is::\", (recall_score(y_test, y_pred))*100)"
   ]
  },
  {
   "cell_type": "code",
   "execution_count": 18,
   "metadata": {},
   "outputs": [],
   "source": [
    "#Area under the curve\n",
    "fpr_dt, tpr_dt, _ = roc_curve(y_test, y_pred_prob)\n",
    "roc_auc_dt = auc(fpr_dt, tpr_dt)"
   ]
  },
  {
   "cell_type": "code",
   "execution_count": 19,
   "metadata": {},
   "outputs": [
    {
     "data": {
      "image/png": "[encoded data removed]",
      "text/plain": [
       "<Figure size 432x288 with 1 Axes>"
      ]
     },
     "metadata": {
      "needs_background": "light"
     },
     "output_type": "display_data"
    }
   ],
   "source": [
    "plt.figure(1)\n",
    "lw = 2\n",
    "plt.plot(fpr_dt, tpr_dt, color='green',\n",
    "         lw=lw, label='Decision Tree(AUC = %0.2f)' % roc_auc_dt)\n",
    "plt.plot([0, 1], [0, 1], color='navy', lw=lw, linestyle='--')\n",
    "\n",
    "plt.xlim([0.0, 1.0])\n",
    "plt.ylim([0.0, 1.05])\n",
    "plt.xlabel('False Positive Rate')\n",
    "plt.ylabel('True Positive Rate')\n",
    "plt.title('Area Under Curve')\n",
    "plt.legend(loc=\"lower right\")\n",
    "plt.show()"
   ]
  },
  {
   "cell_type": "code",
   "execution_count": 20,
   "metadata": {},
   "outputs": [
    {
     "name": "stdout",
     "output_type": "stream",
     "text": [
      "[[480   4]\n",
      " [ 25  79]]\n"
     ]
    }
   ],
   "source": [
    "#Printing confusion matrix\n",
    "print (confusion_matrix(y_test, y_pred))"
   ]
  },
  {
   "cell_type": "code",
   "execution_count": 21,
   "metadata": {},
   "outputs": [],
   "source": [
    "import itertools\n",
    "def plot_confusion_matrix(model, normalize=False): # This function prints and plots the confusion matrix.\n",
    "    cm = confusion_matrix(y_test, model, labels=[0, 1])\n",
    "    classes=[\"Stayed\", \"Left\"]\n",
    "    cmap = plt.cm.Blues\n",
    "    title = \"Confusion Matrix\"\n",
    "    if normalize:\n",
    "        cm = cm.astype('float') / cm.sum(axis=1)[:, np.newaxis]\n",
    "        cm = np.around(cm, decimals=3)\n",
    "    plt.imshow(cm, interpolation='nearest', cmap=cmap)\n",
    "    plt.title(title)\n",
    "    plt.colorbar()\n",
    "    tick_marks = np.arange(len(classes))\n",
    "    plt.xticks(tick_marks, classes, rotation=45)\n",
    "    plt.yticks(tick_marks, classes)\n",
    "    thresh = cm.max() / 2.\n",
    "    for i, j in itertools.product(range(cm.shape[0]), range(cm.shape[1])):\n",
    "        plt.text(j, i, cm[i, j],\n",
    "                 horizontalalignment=\"center\",\n",
    "                 color=\"white\" if cm[i, j] > thresh else \"black\")\n",
    "    plt.tight_layout()\n",
    "    plt.ylabel('True label')\n",
    "    plt.xlabel('Predicted label')"
   ]
  },
  {
   "cell_type": "code",
   "execution_count": 22,
   "metadata": {},
   "outputs": [
    {
     "data": {
      "image/png": "[encoded data removed]",
      "text/plain": [
       "<Figure size 432x432 with 2 Axes>"
      ]
     },
     "metadata": {
      "needs_background": "light"
     },
     "output_type": "display_data"
    }
   ],
   "source": [
    "plt.figure(figsize=(6,6))\n",
    "plot_confusion_matrix(y_pred, normalize=False)\n",
    "plt.show()"
   ]
  },
  {
   "cell_type": "code",
   "execution_count": 23,
   "metadata": {},
   "outputs": [
    {
     "name": "stdout",
     "output_type": "stream",
     "text": [
      "Feature ranking:\n",
      "1. feature 15 (0.083184)\n",
      "2. feature 0 (0.060843)\n",
      "3. feature 18 (0.060818)\n",
      "4. feature 2 (0.057380)\n",
      "5. feature 23 (0.054643)\n",
      "6. feature 4 (0.048178)\n",
      "7. feature 16 (0.047827)\n",
      "8. feature 9 (0.047070)\n",
      "9. feature 26 (0.040802)\n",
      "10. feature 19 (0.039606)\n",
      "11. feature 17 (0.032792)\n",
      "12. feature 29 (0.032148)\n",
      "13. feature 7 (0.030450)\n",
      "14. feature 12 (0.029842)\n",
      "15. feature 10 (0.028147)\n",
      "16. feature 28 (0.027385)\n",
      "17. feature 6 (0.026312)\n",
      "18. feature 24 (0.024885)\n",
      "19. feature 11 (0.024884)\n",
      "20. feature 25 (0.024821)\n",
      "21. feature 14 (0.024738)\n",
      "22. feature 13 (0.024454)\n",
      "23. feature 21 (0.023415)\n",
      "24. feature 27 (0.022435)\n",
      "25. feature 22 (0.021069)\n",
      "26. feature 5 (0.019802)\n",
      "27. feature 3 (0.014778)\n",
      "28. feature 1 (0.014334)\n",
      "29. feature 8 (0.007910)\n",
      "30. feature 20 (0.005048)\n"
     ]
    },
    {
     "data": {
      "text/plain": [
       "Text(0.5, 0, 'index of the feature')"
      ]
     },
     "execution_count": 23,
     "metadata": {},
     "output_type": "execute_result"
    },
    {
     "data": {
      "image/png": "[encoded data removed]",
      "text/plain": [
       "<Figure size 3600x3600 with 1 Axes>"
      ]
     },
     "metadata": {
      "needs_background": "light"
     },
     "output_type": "display_data"
    }
   ],
   "source": [
    "importances= model_HR.feature_importances_\n",
    "indices = np.argsort(importances)[::-1]\n",
    "\n",
    "# Print the feature ranking\n",
    "print(\"Feature ranking:\")\n",
    "\n",
    "for f in range(X.shape[1]):\n",
    "    print(\"%d. feature %d (%f)\" % (f + 1, indices[f], importances[indices[f]]))\n",
    "    \n",
    "f, ax = plt.subplots(figsize=(50,50))\n",
    "plt.title(\"Feature ranking\", fontsize = 11)\n",
    "plt.bar(range(X_train.shape[1]), importances[indices],\n",
    "    color=\"b\", \n",
    "    align=\"center\")\n",
    "plt.xticks(range(X_train.shape[1]), X_train.columns)\n",
    "plt.xlim([-1, X_train.shape[1]])\n",
    "plt.ylabel(\"importance\", fontsize = 11)\n",
    "plt.xlabel(\"index of the feature\", fontsize = 20)"
   ]
  },
  {
   "cell_type": "code",
   "execution_count": 24,
   "metadata": {},
   "outputs": [
    {
     "data": {
      "text/plain": [
       "['attrition.pkl']"
      ]
     },
     "execution_count": 24,
     "metadata": {},
     "output_type": "execute_result"
    }
   ],
   "source": [
    "import joblib\n",
    "joblib.dump(model_HR,\"attrition.pkl\")"
   ]
  },
  {
   "cell_type": "code",
   "execution_count": 33,
   "metadata": {},
   "outputs": [
    {
     "data": {
      "text/plain": [
       "['attribute.pkl']"
      ]
     },
     "execution_count": 33,
     "metadata": {},
     "output_type": "execute_result"
    }
   ],
   "source": [
    "joblib.dump(col,\"attribute.pkl\")"
   ]
  },
  {
   "cell_type": "code",
   "execution_count": 34,
   "metadata": {},
   "outputs": [
    {
     "data": {
      "text/plain": [
       "['encoding.pkl']"
      ]
     },
     "execution_count": 34,
     "metadata": {},
     "output_type": "execute_result"
    }
   ],
   "source": [
    "joblib.dump(enc,\"encoding.pkl\")"
   ]
  },
  {
   "cell_type": "code",
   "execution_count": null,
   "metadata": {},
   "outputs": [],
   "source": []
  }
 ],
 "metadata": {
  "kernelspec": {
   "display_name": "Python 3",
   "language": "python",
   "name": "python3"
  },
  "language_info": {
   "codemirror_mode": {
    "name": "ipython",
    "version": 3
   },
   "file_extension": ".py",
   "mimetype": "text/x-python",
   "name": "python",
   "nbconvert_exporter": "python",
   "pygments_lexer": "ipython3",
   "version": "3.8.5"
  }
 },
 "nbformat": 4,
 "nbformat_minor": 2
}
