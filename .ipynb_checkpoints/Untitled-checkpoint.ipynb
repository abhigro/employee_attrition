{
 "cells": [
  {
   "cell_type": "code",
   "execution_count": 44,
   "metadata": {},
   "outputs": [],
   "source": [
    "import joblib"
   ]
  },
  {
   "cell_type": "code",
   "execution_count": 45,
   "metadata": {},
   "outputs": [],
   "source": [
    "enc=joblib.load(\"encoding.pkl\")"
   ]
  },
  {
   "cell_type": "code",
   "execution_count": 46,
   "metadata": {},
   "outputs": [],
   "source": [
    "attr=joblib.load(\"attribute.pkl\")\n"
   ]
  },
  {
   "cell_type": "code",
   "execution_count": 47,
   "metadata": {},
   "outputs": [],
   "source": [
    "mod=joblib.load(\"attrition.pkl\")"
   ]
  },
  {
   "cell_type": "code",
   "execution_count": 50,
   "metadata": {},
   "outputs": [
    {
     "data": {
      "text/plain": [
       "array(['Non-Travel', 'Travel_Frequently', 'Travel_Rarely'], dtype=object)"
      ]
     },
     "execution_count": 50,
     "metadata": {},
     "output_type": "execute_result"
    }
   ],
   "source": [
    "enc[\"BusinessTravel\"].classes_"
   ]
  },
  {
   "cell_type": "code",
   "execution_count": 35,
   "metadata": {},
   "outputs": [
    {
     "name": "stdout",
     "output_type": "stream",
     "text": [
      "enter Age\n",
      "29\n",
      "please enter BusinessTravel among ['Non-Travel', 'Travel_Frequently', 'Travel_Rarely']\n",
      "Non-Travel\n",
      "enter DailyRate\n",
      "330\n",
      "please enter Department among ['Human Resources', 'Research & Development', 'Sales']\n",
      "Sales\n",
      "enter DistanceFromHome\n",
      "211\n",
      "enter Education\n",
      "3\n",
      "please enter EducationField among ['Human Resources', 'Life Sciences', 'Marketing', 'Medical', 'Other', 'Technical Degree']\n",
      "Other\n",
      "enter EnvironmentSatisfaction\n",
      "2\n",
      "please enter Gender among ['Female', 'Male']\n",
      "Male\n",
      "enter HourlyRate\n",
      "33\n",
      "enter JobInvolvement\n",
      "2\n",
      "enter JobLevel\n",
      "4\n",
      "please enter JobRole among ['Healthcare Representative', 'Human Resources', 'Laboratory Technician', 'Manager', 'Manufacturing Director', 'Research Director', 'Research Scientist', 'Sales Executive', 'Sales Representative']\n",
      "Manager\n",
      "enter JobSatisfaction\n",
      "2\n",
      "please enter MaritalStatus among ['Divorced', 'Married', 'Single']\n",
      "Single\n",
      "enter MonthlyIncome\n",
      "56000\n",
      "enter MonthlyRate\n",
      "3\n",
      "enter NumCompaniesWorked\n",
      "2\n",
      "please enter OverTime among ['No', 'Yes']\n",
      "No\n",
      "enter PercentSalaryHike\n",
      "12\n",
      "enter PerformanceRating\n",
      "4\n",
      "enter RelationshipSatisfaction\n",
      "2\n",
      "enter StockOptionLevel\n",
      "2\n",
      "enter TotalWorkingYears\n",
      "7\n",
      "enter TrainingTimesLastYear\n",
      "1\n",
      "enter WorkLifeBalance\n",
      "5\n",
      "enter YearsAtCompany\n",
      "5\n",
      "enter YearsInCurrentRole\n",
      "4\n",
      "enter YearsSinceLastPromotion\n",
      "3\n",
      "enter YearsWithCurrManager\n",
      "3\n"
     ]
    }
   ],
   "source": [
    "dic={}\n",
    "for i in attr:\n",
    "    \n",
    "    if i in enc.keys():\n",
    "        if (i!=\"Attrition\"):\n",
    "            print(\"please enter\",i,\"among\",list(enc[i].classes_))\n",
    "            x=input(\"\")\n",
    "            y=int(enc[i].transform([x])[0])\n",
    "            dic[i]=y\n",
    "    else:\n",
    "        print(\"enter\",i)\n",
    "        x=int(input(\"\"))\n",
    "        dic[i]=x\n",
    "        "
   ]
  },
  {
   "cell_type": "code",
   "execution_count": 36,
   "metadata": {},
   "outputs": [
    {
     "data": {
      "text/plain": [
       "{'Age': 29,\n",
       " 'BusinessTravel': 0,\n",
       " 'DailyRate': 330,\n",
       " 'Department': 2,\n",
       " 'DistanceFromHome': 211,\n",
       " 'Education': 3,\n",
       " 'EducationField': 4,\n",
       " 'EnvironmentSatisfaction': 2,\n",
       " 'Gender': 1,\n",
       " 'HourlyRate': 33,\n",
       " 'JobInvolvement': 2,\n",
       " 'JobLevel': 4,\n",
       " 'JobRole': 3,\n",
       " 'JobSatisfaction': 2,\n",
       " 'MaritalStatus': 2,\n",
       " 'MonthlyIncome': 56000,\n",
       " 'MonthlyRate': 3,\n",
       " 'NumCompaniesWorked': 2,\n",
       " 'OverTime': 0,\n",
       " 'PercentSalaryHike': 12,\n",
       " 'PerformanceRating': 4,\n",
       " 'RelationshipSatisfaction': 2,\n",
       " 'StockOptionLevel': 2,\n",
       " 'TotalWorkingYears': 7,\n",
       " 'TrainingTimesLastYear': 1,\n",
       " 'WorkLifeBalance': 5,\n",
       " 'YearsAtCompany': 5,\n",
       " 'YearsInCurrentRole': 4,\n",
       " 'YearsSinceLastPromotion': 3,\n",
       " 'YearsWithCurrManager': 3}"
      ]
     },
     "execution_count": 36,
     "metadata": {},
     "output_type": "execute_result"
    }
   ],
   "source": [
    "dic"
   ]
  },
  {
   "cell_type": "code",
   "execution_count": 38,
   "metadata": {},
   "outputs": [
    {
     "data": {
      "text/plain": [
       "array([0])"
      ]
     },
     "execution_count": 38,
     "metadata": {},
     "output_type": "execute_result"
    }
   ],
   "source": [
    "mod.predict([list(dic.values())])"
   ]
  },
  {
   "cell_type": "code",
   "execution_count": null,
   "metadata": {},
   "outputs": [],
   "source": []
  }
 ],
 "metadata": {
  "kernelspec": {
   "display_name": "Python 3",
   "language": "python",
   "name": "python3"
  },
  "language_info": {
   "codemirror_mode": {
    "name": "ipython",
    "version": 3
   },
   "file_extension": ".py",
   "mimetype": "text/x-python",
   "name": "python",
   "nbconvert_exporter": "python",
   "pygments_lexer": "ipython3",
   "version": "3.8.5"
  }
 },
 "nbformat": 4,
 "nbformat_minor": 4
}
